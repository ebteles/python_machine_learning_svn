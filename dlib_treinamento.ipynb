{
 "cells": [
  {
   "cell_type": "code",
   "execution_count": 97,
   "metadata": {},
   "outputs": [],
   "source": [
    "import dlib\n",
    "import datetime\n",
    "import os\n",
    "import numpy as np\n",
    "from PIL import Image"
   ]
  },
  {
   "cell_type": "code",
   "execution_count": 44,
   "metadata": {},
   "outputs": [],
   "source": [
    "options = dlib.simple_object_detector_training_options()\n",
    "#opcoes.add_left_right_image_flips = True\n",
    "options.num_threads = 8\n",
    "options.be_verbose = True\n",
    "options.C = 5"
   ]
  },
  {
   "cell_type": "code",
   "execution_count": 45,
   "metadata": {},
   "outputs": [],
   "source": [
    "path_train = r'D:\\Teles\\Desenvolvimento\\JupyterNotebooks\\DLib\\images\\doriana\\train.xml'\n",
    "#path_train = r'D:\\Teles\\Desenvolvimento\\JupyterNotebooks\\DLib\\images\\doriana\\output\\train.xml'\n",
    "path_model = r'D:\\Teles\\Desenvolvimento\\JupyterNotebooks\\DLib\\models\\doriana.svm'"
   ]
  },
  {
   "cell_type": "code",
   "execution_count": 46,
   "metadata": {},
   "outputs": [
    {
     "name": "stdout",
     "output_type": "stream",
     "text": [
      "0:00:30.548211\n"
     ]
    }
   ],
   "source": [
    "t1 = datetime.datetime.now()\n",
    "dlib.train_simple_object_detector(path_train, path_model, options)\n",
    "t2 = datetime.datetime.now()\n",
    "print(t2-t1)"
   ]
  },
  {
   "cell_type": "code",
   "execution_count": 81,
   "metadata": {},
   "outputs": [],
   "source": [
    "def treinar(path_xml, path_model, label):\n",
    "    \n",
    "    model = os.path.join(path_model, label + '.svm')\n",
    "    \n",
    "    options = dlib.simple_object_detector_training_options()\n",
    "    options.num_threads = 8\n",
    "    options.be_verbose = False\n",
    "    options.C = 1\n",
    "    \n",
    "    t1 = datetime.datetime.now()\n",
    "    dlib.train_simple_object_detector(path_xml, model, options)\n",
    "    t2 = datetime.datetime.now()\n",
    "    print(t2-t1)\n",
    "    \n",
    "    "
   ]
  },
  {
   "cell_type": "code",
   "execution_count": 107,
   "metadata": {},
   "outputs": [],
   "source": [
    "def preparar_deteccao(path_model, labels):\n",
    "    detectores = []\n",
    "    classes = ['1','2','3','4','5','6','7','8','9']\n",
    "    for label in labels:\n",
    "        model = os.path.join(path_model, label + '.svm')\n",
    "        detectores.append(dlib.fhog_object_detector(model))\n",
    "    return detectores, classes"
   ]
  },
  {
   "cell_type": "code",
   "execution_count": 108,
   "metadata": {},
   "outputs": [
    {
     "name": "stdout",
     "output_type": "stream",
     "text": [
      "D:\\MachineLearning\\dataset\\Teles\\Numeros\\um.svm\n",
      "D:\\MachineLearning\\dataset\\Teles\\Numeros\\dois.svm\n",
      "D:\\MachineLearning\\dataset\\Teles\\Numeros\\tres.svm\n",
      "D:\\MachineLearning\\dataset\\Teles\\Numeros\\quatro.svm\n",
      "D:\\MachineLearning\\dataset\\Teles\\Numeros\\cinco.svm\n",
      "D:\\MachineLearning\\dataset\\Teles\\Numeros\\seis.svm\n",
      "D:\\MachineLearning\\dataset\\Teles\\Numeros\\sete.svm\n",
      "D:\\MachineLearning\\dataset\\Teles\\Numeros\\oito.svm\n",
      "D:\\MachineLearning\\dataset\\Teles\\Numeros\\nove.svm\n"
     ]
    }
   ],
   "source": [
    "labels = ['um','dois','tres','quatro','cinco', 'seis', 'sete', 'oito', 'nove']\n",
    "path = r'D:\\MachineLearning\\dataset\\Teles\\Numeros'\n",
    "detectores, classes = preparar_deteccao(path, labels)"
   ]
  },
  {
   "cell_type": "code",
   "execution_count": 109,
   "metadata": {},
   "outputs": [],
   "source": [
    "def detectar(imagem, detectores, classes):\n",
    "    img = np.array(Image.open(imagem))\n",
    "    [objects, confidences, detector_idxs] = dlib.fhog_object_detector.run_multiple(detectores, \n",
    "                                                                                   img,\n",
    "                                                                                   upsample_num_times=2,\n",
    "                                                                                   adjust_threshold=0.0)\n",
    "    print('{} => detectados: {}'.format(imagem, len(objects)))     "
   ]
  },
  {
   "cell_type": "code",
   "execution_count": 111,
   "metadata": {},
   "outputs": [
    {
     "name": "stdout",
     "output_type": "stream",
     "text": [
      "D:\\MachineLearning\\dataset\\Teles\\Numeros\\cinco01.jpg => detectados: 0\n"
     ]
    }
   ],
   "source": [
    "img = r'D:\\MachineLearning\\dataset\\Teles\\Numeros\\cinco01.jpg'\n",
    "detectar(img, detectores, classes)"
   ]
  },
  {
   "cell_type": "code",
   "execution_count": null,
   "metadata": {},
   "outputs": [],
   "source": []
  },
  {
   "cell_type": "code",
   "execution_count": 84,
   "metadata": {},
   "outputs": [
    {
     "name": "stdout",
     "output_type": "stream",
     "text": [
      "D:\\MachineLearning\\dataset\\Teles\\Numeros\\um.xml\n",
      "0:00:15.198011\n",
      "D:\\MachineLearning\\dataset\\Teles\\Numeros\\dois.xml\n",
      "0:00:26.894987\n",
      "D:\\MachineLearning\\dataset\\Teles\\Numeros\\tres.xml\n",
      "0:00:18.233995\n",
      "D:\\MachineLearning\\dataset\\Teles\\Numeros\\quatro.xml\n",
      "0:00:24.223031\n",
      "D:\\MachineLearning\\dataset\\Teles\\Numeros\\cinco.xml\n",
      "0:00:15.524963\n",
      "D:\\MachineLearning\\dataset\\Teles\\Numeros\\seis.xml\n",
      "0:00:33.137998\n",
      "D:\\MachineLearning\\dataset\\Teles\\Numeros\\sete.xml\n",
      "0:00:07.615000\n",
      "D:\\MachineLearning\\dataset\\Teles\\Numeros\\oito.xml\n",
      "0:00:25.448000\n",
      "D:\\MachineLearning\\dataset\\Teles\\Numeros\\nove.xml\n",
      "0:00:19.899992\n",
      "fim\n"
     ]
    }
   ],
   "source": [
    "labels = ['um','dois','tres','quatro','cinco', 'seis', 'sete', 'oito', 'nove']\n",
    "path = r'D:\\MachineLearning\\dataset\\Teles\\Numeros'\n",
    "for label in labels:\n",
    "    config = os.path.join(path, label +'.xml')\n",
    "    print(config)\n",
    "    treinar(config, path, label)\n",
    "print('fim')"
   ]
  },
  {
   "cell_type": "markdown",
   "metadata": {},
   "source": [
    "<b>Converter Pascal XML para formato DLib</b>"
   ]
  },
  {
   "cell_type": "code",
   "execution_count": 74,
   "metadata": {},
   "outputs": [],
   "source": [
    "import os\n",
    "from xml.dom import minidom"
   ]
  },
  {
   "cell_type": "code",
   "execution_count": 75,
   "metadata": {},
   "outputs": [],
   "source": [
    "docXml = r'D:\\MachineLearning\\dataset\\Teles\\Numeros\\sudoku.xml'\n",
    "docImage = r'D:\\MachineLearning\\dataset\\Teles\\Numeros\\sudoku.jpg'\n",
    "path = r'D:\\MachineLearning\\dataset\\Teles\\Numeros'\n",
    "mydoc = minidom.parse(docXml)"
   ]
  },
  {
   "cell_type": "code",
   "execution_count": 76,
   "metadata": {},
   "outputs": [],
   "source": [
    "itens = mydoc.getElementsByTagName('object')"
   ]
  },
  {
   "cell_type": "code",
   "execution_count": 77,
   "metadata": {},
   "outputs": [],
   "source": [
    "dados = []\n",
    "for item in itens:\n",
    "    nome = item.getElementsByTagName('name')[0].firstChild.nodeValue\n",
    "    x1 = item.getElementsByTagName('xmin')[0].firstChild.nodeValue\n",
    "    y1 = item.getElementsByTagName('ymin')[0].firstChild.nodeValue\n",
    "    x2 = item.getElementsByTagName('xmax')[0].firstChild.nodeValue\n",
    "    y2 = item.getElementsByTagName('ymax')[0].firstChild.nodeValue\n",
    "    dados.append([nome, x1, y1, x2, y2])"
   ]
  },
  {
   "cell_type": "code",
   "execution_count": 78,
   "metadata": {},
   "outputs": [],
   "source": [
    "xml1 = (\"<?xml version='1.0' encoding='ISO-8859-1'?>\" +\n",
    "     \"<?xml-stylesheet type='text/xsl' href='image_metadata_stylesheet.xsl'?>\" +\n",
    "     \"<dataset>\" +\n",
    "        \"<images>\")\n",
    "xml2 = \"</images></dataset>\""
   ]
  },
  {
   "cell_type": "code",
   "execution_count": 79,
   "metadata": {},
   "outputs": [],
   "source": [
    "def gravar(txt, label):\n",
    "    label += '.xml'\n",
    "    arq = os.path.join(path, label)\n",
    "    with open(arq, 'w') as f:\n",
    "        f.write(txt)"
   ]
  },
  {
   "cell_type": "code",
   "execution_count": 80,
   "metadata": {},
   "outputs": [
    {
     "name": "stdout",
     "output_type": "stream",
     "text": [
      "fim\n"
     ]
    }
   ],
   "source": [
    "labels = ['um','dois','tres','quatro','cinco', 'seis', 'sete', 'oito', 'nove']\n",
    "for label in labels:\n",
    "    boxes = [d for d in dados if d[0] == label]\n",
    "    txt = ''\n",
    "    for box in boxes:\n",
    "        label, x1, y1, x2, y2 = box\n",
    "        txt += \"<box top='{}' left='{}' width='{}' height='{}'/>\".format(x1, y1, int(y2)-int(y1)+1, int(x2)-int(x1)+1)\n",
    "    txt = \"<image file='{}'>{}</image>\".format(docImage, txt)\n",
    "    arquivo = xml1 + txt + xml2\n",
    "    gravar(arquivo, label)\n",
    "print('fim')\n",
    "        \n"
   ]
  },
  {
   "cell_type": "code",
   "execution_count": null,
   "metadata": {},
   "outputs": [],
   "source": []
  }
 ],
 "metadata": {
  "kernelspec": {
   "display_name": "Python 3",
   "language": "python",
   "name": "python3"
  },
  "language_info": {
   "codemirror_mode": {
    "name": "ipython",
    "version": 3
   },
   "file_extension": ".py",
   "mimetype": "text/x-python",
   "name": "python",
   "nbconvert_exporter": "python",
   "pygments_lexer": "ipython3",
   "version": "3.6.8"
  }
 },
 "nbformat": 4,
 "nbformat_minor": 2
}
